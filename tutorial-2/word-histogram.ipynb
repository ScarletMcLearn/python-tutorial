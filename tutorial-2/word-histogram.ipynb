{
 "cells": [
  {
   "cell_type": "markdown",
   "metadata": {},
   "source": [
    "필요한 모듈을 임포트 합니다."
   ]
  },
  {
   "cell_type": "code",
   "execution_count": 1,
   "metadata": {
    "collapsed": true
   },
   "outputs": [],
   "source": [
    "import string\n",
    "import re\n",
    "import random\n",
    "import json"
   ]
  },
  {
   "cell_type": "markdown",
   "metadata": {},
   "source": [
    "jungle-book.txt 파일을 임포트 하고 한 라인씩 읽어서 단어를 잘라냅니다. 이 때 영문자가 아닌 구두점은 모두 공백으로 바꿉니다."
   ]
  },
  {
   "cell_type": "code",
   "execution_count": 2,
   "metadata": {
    "collapsed": false
   },
   "outputs": [
    {
     "data": {
      "text/plain": [
       "('!\"#$%&\\'()*+,-./:;<=>?@[\\\\]^_`{|}~', ' \\t\\n\\r\\x0b\\x0c')"
      ]
     },
     "execution_count": 2,
     "metadata": {},
     "output_type": "execute_result"
    }
   ],
   "source": [
    "string.punctuation, string.whitespace"
   ]
  },
  {
   "cell_type": "markdown",
   "metadata": {},
   "source": [
    "단어를 소문자로 바꾼 후 hist 딕셔너리에 키로 등록하고 단어가 나타난 빈도를 증가시켜서 저장합니다."
   ]
  },
  {
   "cell_type": "code",
   "execution_count": 3,
   "metadata": {
    "collapsed": false
   },
   "outputs": [],
   "source": [
    "hist = {}\n",
    "with open('jungle-book.txt') as f:\n",
    "    for line in f:\n",
    "        line = re.sub('['+string.punctuation+string.whitespace+']', ' ', line)\n",
    "        for word in line.split():\n",
    "            word = word.lower()\n",
    "            hist[word] = hist.get(word, 0) + 1"
   ]
  },
  {
   "cell_type": "markdown",
   "metadata": {},
   "source": [
    "histogram.txt 파일에 json 문자열로 변환하여 저장합니다."
   ]
  },
  {
   "cell_type": "code",
   "execution_count": 4,
   "metadata": {
    "collapsed": false
   },
   "outputs": [],
   "source": [
    "with open('histogram.txt', 'w') as f:\n",
    "    json.dump(hist, f)"
   ]
  },
  {
   "cell_type": "markdown",
   "metadata": {},
   "source": [
    "hist 딕셔너리의 전체 키의 갯수를 출력합니다."
   ]
  },
  {
   "cell_type": "code",
   "execution_count": 5,
   "metadata": {
    "collapsed": false
   },
   "outputs": [
    {
     "data": {
      "text/plain": [
       "5028"
      ]
     },
     "execution_count": 5,
     "metadata": {},
     "output_type": "execute_result"
    }
   ],
   "source": [
    "len(hist)"
   ]
  },
  {
   "cell_type": "markdown",
   "metadata": {},
   "source": [
    "단어가 나타난 빈도를 모두 더합니다."
   ]
  },
  {
   "cell_type": "code",
   "execution_count": 6,
   "metadata": {
    "collapsed": false
   },
   "outputs": [
    {
     "data": {
      "text/plain": [
       "55442"
      ]
     },
     "execution_count": 6,
     "metadata": {},
     "output_type": "execute_result"
    }
   ],
   "source": [
    "sum(hist.values())"
   ]
  },
  {
   "cell_type": "markdown",
   "metadata": {},
   "source": [
    "가장 많이 나타난 단어를 추출하기 위해 빈도와 단어를 튜플로 만들어 리스트에 저장하고 리스트의 sort 메소드를 사용하여 최상위 10개만을 추려냅니다. 튜플이나 리스트는 엘리먼트를 순서대로 비교하여 대소를 구분합니다."
   ]
  },
  {
   "cell_type": "code",
   "execution_count": 7,
   "metadata": {
    "collapsed": false
   },
   "outputs": [
    {
     "data": {
      "text/plain": [
       "[(3630, 'the'),\n",
       " (2315, 'and'),\n",
       " (1314, 'of'),\n",
       " (1261, 'to'),\n",
       " (1153, 'a'),\n",
       " (1074, 'he'),\n",
       " (735, 'in'),\n",
       " (676, 'that'),\n",
       " (650, 'i'),\n",
       " (648, 'his')]"
      ]
     },
     "execution_count": 7,
     "metadata": {},
     "output_type": "execute_result"
    }
   ],
   "source": [
    "t = []\n",
    "for word in hist:\n",
    "    t.append((hist[word], word))\n",
    "t.sort(reverse=True)\n",
    "t[:10]"
   ]
  },
  {
   "cell_type": "markdown",
   "metadata": {},
   "source": [
    "단어가 나타난 빈도에 비례하여 랜덤하게 단어를 추출하기 위하여 단어를 빈도만큼 생성하여 새로운 리스트에 추가한 후 그 리스트에서 랜덤하게 하나를 추출합니다."
   ]
  },
  {
   "cell_type": "code",
   "execution_count": 8,
   "metadata": {
    "collapsed": false
   },
   "outputs": [
    {
     "name": "stdout",
     "output_type": "stream",
     "text": [
      "55442\n"
     ]
    },
    {
     "data": {
      "text/plain": [
       "'and'"
      ]
     },
     "execution_count": 8,
     "metadata": {},
     "output_type": "execute_result"
    }
   ],
   "source": [
    "rnd_word = []\n",
    "for word in hist:\n",
    "    rnd_word.extend([word] * hist[word])\n",
    "\n",
    "print(len(rnd_word))\n",
    "random.choice(rnd_word)"
   ]
  },
  {
   "cell_type": "code",
   "execution_count": null,
   "metadata": {
    "collapsed": true
   },
   "outputs": [],
   "source": []
  }
 ],
 "metadata": {
  "kernelspec": {
   "display_name": "Python 3",
   "language": "python",
   "name": "python3"
  },
  "language_info": {
   "codemirror_mode": {
    "name": "ipython",
    "version": 3
   },
   "file_extension": ".py",
   "mimetype": "text/x-python",
   "name": "python",
   "nbconvert_exporter": "python",
   "pygments_lexer": "ipython3",
   "version": "3.5.2"
  }
 },
 "nbformat": 4,
 "nbformat_minor": 0
}
