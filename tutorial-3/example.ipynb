{
 "cells": [
  {
   "cell_type": "code",
   "execution_count": null,
   "metadata": {
    "collapsed": true
   },
   "outputs": [],
   "source": [
    "class Student(object):\n",
    "    '''학생 정보를 담고 있는 클래스입니다.'''\n",
    "    \n",
    "    # 네임맹글링을 위해 _(underscore) 두개를 넣습니다.\n",
    "    __id_pos = 0\n",
    "    \n",
    "    def __init__(self, name):\n",
    "        '''학생 이름을 저장하고 고유번호를 부여합니다.'''\n",
    "        self.name = name\n",
    "        Student.__id_pos += 1\n",
    "        self.id_no = Student.__id_pos\n",
    "        \n",
    "    def get_id_no(self):\n",
    "        '''학생의 고유번호를 리턴합니다.'''\n",
    "        return self.id_no"
   ]
  },
  {
   "cell_type": "code",
   "execution_count": null,
   "metadata": {
    "collapsed": false
   },
   "outputs": [],
   "source": [
    "Student._Student__id_pos"
   ]
  },
  {
   "cell_type": "code",
   "execution_count": null,
   "metadata": {
    "collapsed": true
   },
   "outputs": [],
   "source": [
    "class Subject(object):\n",
    "    \n",
    "    def __init__(self, title):\n",
    "        self.title = title"
   ]
  },
  {
   "cell_type": "code",
   "execution_count": null,
   "metadata": {
    "collapsed": false
   },
   "outputs": [],
   "source": [
    "class GradeBooks(object):\n",
    "    '''과목별로 학생들의 점수를 관리하는 클래스입니다.'''\n",
    "    \n",
    "    def __init__(self, subject):\n",
    "        '''과목이름을 받아서 저장하고 학생 리스트와 점수를 위한 딕셔너리를 초기화합니다.'''\n",
    "        self.subject = subject\n",
    "        self.students = []\n",
    "        self.grades = {}\n",
    "        \n",
    "    def add_student(self, student):\n",
    "        '''student 오브젝트를 추가합니다.'''\n",
    "        if student in self.students:\n",
    "            return\n",
    "        self.students.append(student)\n",
    "        self.grades[student.get_id_no()] = []\n",
    "    \n",
    "    def add_grade(self, student, grade):\n",
    "        '''student 오브젝트와 점수를 받아서 grades 딕셔너리에 추가합니다.'''\n",
    "        id = student.get_id_no()\n",
    "        if id in self.grades:\n",
    "            self.grades[id].append(grade)\n",
    "            \n",
    "    def add_grades(self, student, grades):\n",
    "        '''student 오브젝트와 점수 리스트를 받아서 grades 딕셔너리에 추가합니다.'''\n",
    "        id = student.get_id_no()\n",
    "        if id in self.grades:\n",
    "            self.grades[id].extend(grades)\n",
    "            \n",
    "    def get_grade(self, student):\n",
    "        '''학생이 가지고 있는 모든 점수를 리스트로 리턴합니다.'''\n",
    "        id = student.get_id_no()\n",
    "        if id in self.grades:\n",
    "            return self.grades[id].copy()\n",
    "        return None\n",
    "    \n",
    "    def all_students(self):\n",
    "        '''저장된 모든 학생정보 리스트를 복사하여 리턴합니다.'''\n",
    "        return self.students.copy()\n",
    "    \n",
    "    def best_student(self):\n",
    "        '''학생별로 점수를 평균내고 가장 높은 점수와 학생 이름을 리턴합니다.'''\n",
    "        mean_grade = []\n",
    "        for student in self.students:\n",
    "            id = student.get_id_no()\n",
    "            mean = sum(self.grades[id]) / len(self.grades[id])\n",
    "            mean_grade.append((mean, student.name))\n",
    "        mean_grade.sort()\n",
    "        return mean_grade[0]"
   ]
  },
  {
   "cell_type": "code",
   "execution_count": null,
   "metadata": {
    "collapsed": false
   },
   "outputs": [],
   "source": [
    "bob = Student('bob')"
   ]
  },
  {
   "cell_type": "code",
   "execution_count": null,
   "metadata": {
    "collapsed": false
   },
   "outputs": [],
   "source": [
    "tom = Student('tom')"
   ]
  },
  {
   "cell_type": "code",
   "execution_count": null,
   "metadata": {
    "collapsed": true
   },
   "outputs": [],
   "source": [
    "jane = Student('jane')"
   ]
  },
  {
   "cell_type": "code",
   "execution_count": null,
   "metadata": {
    "collapsed": true
   },
   "outputs": [],
   "source": [
    "math_subj = Subject('math')"
   ]
  },
  {
   "cell_type": "code",
   "execution_count": null,
   "metadata": {
    "collapsed": true
   },
   "outputs": [],
   "source": [
    "math = GradeBooks(math_subj)"
   ]
  },
  {
   "cell_type": "code",
   "execution_count": null,
   "metadata": {
    "collapsed": false
   },
   "outputs": [],
   "source": [
    "math.add_student(bob)"
   ]
  },
  {
   "cell_type": "code",
   "execution_count": null,
   "metadata": {
    "collapsed": true
   },
   "outputs": [],
   "source": [
    "math.add_student(tom)"
   ]
  },
  {
   "cell_type": "code",
   "execution_count": null,
   "metadata": {
    "collapsed": true
   },
   "outputs": [],
   "source": [
    "math.add_student(jane)"
   ]
  },
  {
   "cell_type": "code",
   "execution_count": null,
   "metadata": {
    "collapsed": false
   },
   "outputs": [],
   "source": [
    "math.add_grade(bob, 100)"
   ]
  },
  {
   "cell_type": "code",
   "execution_count": null,
   "metadata": {
    "collapsed": true
   },
   "outputs": [],
   "source": [
    "math.add_grade(bob, 70)"
   ]
  },
  {
   "cell_type": "code",
   "execution_count": null,
   "metadata": {
    "collapsed": false
   },
   "outputs": [],
   "source": [
    "math.add_grades(bob, [50,30,20])"
   ]
  },
  {
   "cell_type": "code",
   "execution_count": null,
   "metadata": {
    "collapsed": false
   },
   "outputs": [],
   "source": [
    "math.get_grade(bob)"
   ]
  },
  {
   "cell_type": "code",
   "execution_count": null,
   "metadata": {
    "collapsed": true
   },
   "outputs": [],
   "source": [
    "math.add_grade(bob, 50)"
   ]
  },
  {
   "cell_type": "code",
   "execution_count": null,
   "metadata": {
    "collapsed": true
   },
   "outputs": [],
   "source": [
    "math.add_grade(tom, 80)"
   ]
  },
  {
   "cell_type": "code",
   "execution_count": null,
   "metadata": {
    "collapsed": true
   },
   "outputs": [],
   "source": [
    "math.add_grade(tom, 90)"
   ]
  },
  {
   "cell_type": "code",
   "execution_count": null,
   "metadata": {
    "collapsed": true
   },
   "outputs": [],
   "source": [
    "math.add_grade(tom, 70)"
   ]
  },
  {
   "cell_type": "code",
   "execution_count": null,
   "metadata": {
    "collapsed": true
   },
   "outputs": [],
   "source": [
    "math.add_grade(jane, 80)"
   ]
  },
  {
   "cell_type": "code",
   "execution_count": null,
   "metadata": {
    "collapsed": false
   },
   "outputs": [],
   "source": [
    "math.all_students()"
   ]
  },
  {
   "cell_type": "code",
   "execution_count": null,
   "metadata": {
    "collapsed": false
   },
   "outputs": [],
   "source": [
    "math.best_student()"
   ]
  },
  {
   "cell_type": "code",
   "execution_count": null,
   "metadata": {
    "collapsed": true
   },
   "outputs": [],
   "source": []
  }
 ],
 "metadata": {
  "kernelspec": {
   "display_name": "Python 3",
   "language": "python",
   "name": "python3"
  },
  "language_info": {
   "codemirror_mode": {
    "name": "ipython",
    "version": 3
   },
   "file_extension": ".py",
   "mimetype": "text/x-python",
   "name": "python",
   "nbconvert_exporter": "python",
   "pygments_lexer": "ipython3",
   "version": "3.5.2"
  }
 },
 "nbformat": 4,
 "nbformat_minor": 0
}
