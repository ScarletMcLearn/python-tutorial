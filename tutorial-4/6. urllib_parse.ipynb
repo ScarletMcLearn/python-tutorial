{
 "cells": [
  {
   "cell_type": "code",
   "execution_count": 20,
   "metadata": {
    "collapsed": false
   },
   "outputs": [
    {
     "name": "stdout",
     "output_type": "stream",
     "text": [
      "<class 'urllib.parse.ParseResult'>\n",
      "http\n",
      "sports.news.naver.com:80\n",
      "/wfootball/news/read.nhn\n",
      "oid=413&aid=0000036958\n",
      "news\n"
     ]
    }
   ],
   "source": [
    "from urllib.parse import urlparse, urlunparse\n",
    "o = urlparse('http://sports.news.naver.com:80/wfootball/news/read.nhn?oid=413&aid=0000036958#news')\n",
    "print(type(o))\n",
    "print(o.scheme)\n",
    "print(o.netloc)\n",
    "print(o.path)\n",
    "print(o.query)\n",
    "print(o.fragment)"
   ]
  },
  {
   "cell_type": "code",
   "execution_count": 21,
   "metadata": {
    "collapsed": false
   },
   "outputs": [
    {
     "name": "stdout",
     "output_type": "stream",
     "text": [
      "http://sports.news.naver.com:80/wfootball/news/read.nhn?oid=413&aid=0000036958#news\n"
     ]
    }
   ],
   "source": [
    "print(urlunparse(o))"
   ]
  },
  {
   "cell_type": "code",
   "execution_count": 22,
   "metadata": {
    "collapsed": false
   },
   "outputs": [
    {
     "data": {
      "text/plain": [
       "'http://www.naver.com/test.html'"
      ]
     },
     "execution_count": 22,
     "metadata": {},
     "output_type": "execute_result"
    }
   ],
   "source": [
    "from urllib.parse import urljoin\n",
    "urljoin('http://www.naver.com/', 'test.html')"
   ]
  },
  {
   "cell_type": "code",
   "execution_count": 25,
   "metadata": {
    "collapsed": false
   },
   "outputs": [
    {
     "name": "stdout",
     "output_type": "stream",
     "text": [
      "{'aid': ['0000036958'], 'oid': ['413']}\n",
      "[('oid', '413'), ('aid', '0000036958')]\n"
     ]
    }
   ],
   "source": [
    "from urllib.parse import parse_qs, parse_qsl\n",
    "print(parse_qs(o.query))\n",
    "print(parse_qsl(o.query))"
   ]
  },
  {
   "cell_type": "code",
   "execution_count": null,
   "metadata": {
    "collapsed": true
   },
   "outputs": [],
   "source": []
  }
 ],
 "metadata": {
  "kernelspec": {
   "display_name": "Python 3",
   "language": "python",
   "name": "python3"
  },
  "language_info": {
   "codemirror_mode": {
    "name": "ipython",
    "version": 3
   },
   "file_extension": ".py",
   "mimetype": "text/x-python",
   "name": "python",
   "nbconvert_exporter": "python",
   "pygments_lexer": "ipython3",
   "version": "3.5.2"
  }
 },
 "nbformat": 4,
 "nbformat_minor": 0
}
