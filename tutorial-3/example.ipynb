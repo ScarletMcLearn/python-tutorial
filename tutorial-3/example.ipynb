{
 "cells": [
  {
   "cell_type": "code",
   "execution_count": 10,
   "metadata": {
    "collapsed": true
   },
   "outputs": [],
   "source": [
    "class Student(object):\n",
    "    ''' '''\n",
    "    \n",
    "    id_pos = 0\n",
    "    \n",
    "    def __init__(self, name):\n",
    "        ''' '''\n",
    "        self.name = name\n",
    "        Student.id_pos += 1\n",
    "        self.id_no = Student.id_pos\n",
    "        \n",
    "    def get_id_no(self):\n",
    "        ''' '''\n",
    "        return self.id_no"
   ]
  },
  {
   "cell_type": "code",
   "execution_count": 108,
   "metadata": {
    "collapsed": false
   },
   "outputs": [],
   "source": [
    "class GradeBooks(object):\n",
    "    ''' '''\n",
    "    \n",
    "    def __init__(self, title):\n",
    "        ''' '''\n",
    "        self.title = title\n",
    "        self.students = []\n",
    "        self.grades = {}\n",
    "        \n",
    "    def add_student(self, student):\n",
    "        ''' '''\n",
    "        if student in self.students:\n",
    "            return\n",
    "        self.students.append(student)\n",
    "        self.grades[student.get_id_no()] = []\n",
    "    \n",
    "    def add_grade(self, student, grade):\n",
    "        ''' '''\n",
    "        id = student.get_id_no()\n",
    "        if id in self.grades:\n",
    "            self.grades[id].append(grade)\n",
    "            \n",
    "    def get_grade(self, student):\n",
    "        ''' '''\n",
    "        id = student.get_id_no()\n",
    "        if id in self.grades:\n",
    "            return self.grades[id].copy()\n",
    "        return None\n",
    "    \n",
    "    def all_students(self):\n",
    "        ''' '''\n",
    "        return self.students.copy()\n",
    "    \n",
    "    def best_student(self):\n",
    "        ''' '''\n",
    "        mean_grade = []\n",
    "        for student in self.students:\n",
    "            id = student.get_id_no()\n",
    "            mean = sum(self.grades[id]) / len(self.grades[id])\n",
    "            mean_grade.append((mean, student.name))\n",
    "        mean_grade.sort()\n",
    "        return mean_grade[0]"
   ]
  },
  {
   "cell_type": "code",
   "execution_count": 109,
   "metadata": {
    "collapsed": true
   },
   "outputs": [],
   "source": [
    "bob = Student('bob')"
   ]
  },
  {
   "cell_type": "code",
   "execution_count": 110,
   "metadata": {
    "collapsed": true
   },
   "outputs": [],
   "source": [
    "tom = Student('tom')"
   ]
  },
  {
   "cell_type": "code",
   "execution_count": 111,
   "metadata": {
    "collapsed": true
   },
   "outputs": [],
   "source": [
    "jane = Student('jane')"
   ]
  },
  {
   "cell_type": "code",
   "execution_count": 112,
   "metadata": {
    "collapsed": true
   },
   "outputs": [],
   "source": [
    "math = GradeBooks('math')"
   ]
  },
  {
   "cell_type": "code",
   "execution_count": 113,
   "metadata": {
    "collapsed": false
   },
   "outputs": [],
   "source": [
    "math.add_student(bob)"
   ]
  },
  {
   "cell_type": "code",
   "execution_count": 114,
   "metadata": {
    "collapsed": true
   },
   "outputs": [],
   "source": [
    "math.add_student(tom)"
   ]
  },
  {
   "cell_type": "code",
   "execution_count": 115,
   "metadata": {
    "collapsed": true
   },
   "outputs": [],
   "source": [
    "math.add_student(jane)"
   ]
  },
  {
   "cell_type": "code",
   "execution_count": 116,
   "metadata": {
    "collapsed": false
   },
   "outputs": [],
   "source": [
    "math.add_grade(bob, 100)"
   ]
  },
  {
   "cell_type": "code",
   "execution_count": 117,
   "metadata": {
    "collapsed": true
   },
   "outputs": [],
   "source": [
    "math.add_grade(bob, 70)"
   ]
  },
  {
   "cell_type": "code",
   "execution_count": 118,
   "metadata": {
    "collapsed": true
   },
   "outputs": [],
   "source": [
    "math.add_grade(bob, 50)"
   ]
  },
  {
   "cell_type": "code",
   "execution_count": 119,
   "metadata": {
    "collapsed": true
   },
   "outputs": [],
   "source": [
    "math.add_grade(tom, 80)"
   ]
  },
  {
   "cell_type": "code",
   "execution_count": 120,
   "metadata": {
    "collapsed": true
   },
   "outputs": [],
   "source": [
    "math.add_grade(tom, 90)"
   ]
  },
  {
   "cell_type": "code",
   "execution_count": 121,
   "metadata": {
    "collapsed": true
   },
   "outputs": [],
   "source": [
    "math.add_grade(tom, 70)"
   ]
  },
  {
   "cell_type": "code",
   "execution_count": 122,
   "metadata": {
    "collapsed": true
   },
   "outputs": [],
   "source": [
    "math.add_grade(jane, 80)"
   ]
  },
  {
   "cell_type": "code",
   "execution_count": 123,
   "metadata": {
    "collapsed": false
   },
   "outputs": [
    {
     "data": {
      "text/plain": [
       "[<__main__.Student at 0x106c95240>,\n",
       " <__main__.Student at 0x106c950b8>,\n",
       " <__main__.Student at 0x106c954a8>]"
      ]
     },
     "execution_count": 123,
     "metadata": {},
     "output_type": "execute_result"
    }
   ],
   "source": [
    "math.all_students()"
   ]
  },
  {
   "cell_type": "code",
   "execution_count": 124,
   "metadata": {
    "collapsed": false
   },
   "outputs": [
    {
     "data": {
      "text/plain": [
       "(73.33333333333333, 'bob')"
      ]
     },
     "execution_count": 124,
     "metadata": {},
     "output_type": "execute_result"
    }
   ],
   "source": [
    "math.best_student()"
   ]
  },
  {
   "cell_type": "code",
   "execution_count": null,
   "metadata": {
    "collapsed": true
   },
   "outputs": [],
   "source": []
  }
 ],
 "metadata": {
  "kernelspec": {
   "display_name": "Python 3",
   "language": "python",
   "name": "python3"
  },
  "language_info": {
   "codemirror_mode": {
    "name": "ipython",
    "version": 3
   },
   "file_extension": ".py",
   "mimetype": "text/x-python",
   "name": "python",
   "nbconvert_exporter": "python",
   "pygments_lexer": "ipython3",
   "version": "3.5.2"
  }
 },
 "nbformat": 4,
 "nbformat_minor": 0
}
