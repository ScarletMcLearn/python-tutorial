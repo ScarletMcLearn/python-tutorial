{
 "cells": [
  {
   "cell_type": "code",
   "execution_count": 16,
   "metadata": {
    "collapsed": false
   },
   "outputs": [],
   "source": [
    "import requests"
   ]
  },
  {
   "cell_type": "code",
   "execution_count": 17,
   "metadata": {
    "collapsed": true
   },
   "outputs": [],
   "source": [
    "endpoint = 'https://raw.githubusercontent.com/rickiepark/python-tutorial/master/tutorial-4/sample.json'\n",
    "r = requests.get(endpoint)"
   ]
  },
  {
   "cell_type": "code",
   "execution_count": 18,
   "metadata": {
    "collapsed": false
   },
   "outputs": [
    {
     "data": {
      "text/plain": [
       "200"
      ]
     },
     "execution_count": 18,
     "metadata": {},
     "output_type": "execute_result"
    }
   ],
   "source": [
    "r.status_code"
   ]
  },
  {
   "cell_type": "code",
   "execution_count": 19,
   "metadata": {
    "collapsed": false
   },
   "outputs": [
    {
     "data": {
      "text/plain": [
       "{'Via': '1.1 varnish', 'Expires': 'Wed, 20 Jul 2016 07:45:34 GMT', 'X-Cache-Hits': '0', 'X-Geo-Block-List': '', 'Connection': 'keep-alive', 'Source-Age': '0', 'Vary': 'Authorization,Accept-Encoding', 'Date': 'Wed, 20 Jul 2016 07:40:34 GMT', 'X-GitHub-Request-Id': '2BF94822:22BC:22817AD:578F2AF1', 'Content-Security-Policy': \"default-src 'none'; style-src 'unsafe-inline'\", 'ETag': '\"d2ca30f0a367151e8325dce8f425b35cb93be8d9\"', 'X-XSS-Protection': '1; mode=block', 'X-Frame-Options': 'deny', 'X-Cache': 'MISS', 'Accept-Ranges': 'bytes', 'Content-Length': '285', 'Strict-Transport-Security': 'max-age=31536000', 'Access-Control-Allow-Origin': '*', 'Content-Type': 'text/plain; charset=utf-8', 'X-Fastly-Request-ID': '48df42466241237645b52fbd8678bf256ca29bef', 'X-Content-Type-Options': 'nosniff', 'X-Served-By': 'cache-nrt6124-NRT', 'Content-Encoding': 'gzip', 'Cache-Control': 'max-age=300'}"
      ]
     },
     "execution_count": 19,
     "metadata": {},
     "output_type": "execute_result"
    }
   ],
   "source": [
    "r.headers"
   ]
  },
  {
   "cell_type": "code",
   "execution_count": 20,
   "metadata": {
    "collapsed": false
   },
   "outputs": [
    {
     "data": {
      "text/plain": [
       "'{\\n  \"data\": [{\\n    \"type\": \"articles\",\\n    \"id\": \"1\",\\n    \"attributes\": {\\n      \"title\": \"JSON API paints my bikeshed!\",\\n      \"body\": \"The shortest article. Ever.\",\\n      \"created\": \"2015-05-22T14:56:29.000Z\",\\n      \"updated\": \"2015-05-22T14:56:28.000Z\"\\n    },\\n    \"relationships\": {\\n      \"author\": {\\n        \"data\": {\"id\": \"42\", \"type\": \"people\"}\\n      }\\n    }\\n  }],\\n  \"included\": [\\n    {\\n      \"type\": \"people\",\\n      \"id\": \"42\",\\n      \"attributes\": {\\n        \"name\": \"John\",\\n        \"age\": 80,\\n        \"gender\": \"male\"\\n      }\\n    }\\n  ]\\n}'"
      ]
     },
     "execution_count": 20,
     "metadata": {},
     "output_type": "execute_result"
    }
   ],
   "source": [
    "r.text"
   ]
  },
  {
   "cell_type": "code",
   "execution_count": 23,
   "metadata": {
    "collapsed": false
   },
   "outputs": [
    {
     "name": "stdout",
     "output_type": "stream",
     "text": [
      "<class 'dict'>\n"
     ]
    },
    {
     "data": {
      "text/plain": [
       "{'data': [{'attributes': {'body': 'The shortest article. Ever.',\n",
       "    'created': '2015-05-22T14:56:29.000Z',\n",
       "    'title': 'JSON API paints my bikeshed!',\n",
       "    'updated': '2015-05-22T14:56:28.000Z'},\n",
       "   'id': '1',\n",
       "   'relationships': {'author': {'data': {'id': '42', 'type': 'people'}}},\n",
       "   'type': 'articles'}],\n",
       " 'included': [{'attributes': {'age': 80, 'gender': 'male', 'name': 'John'},\n",
       "   'id': '42',\n",
       "   'type': 'people'}]}"
      ]
     },
     "execution_count": 23,
     "metadata": {},
     "output_type": "execute_result"
    }
   ],
   "source": [
    "obj = r.json()\n",
    "print(obj.__class__)\n",
    "obj"
   ]
  },
  {
   "cell_type": "code",
   "execution_count": 12,
   "metadata": {
    "collapsed": false
   },
   "outputs": [],
   "source": [
    "r = requests.post(endpoint, data={'key':'value'})"
   ]
  },
  {
   "cell_type": "code",
   "execution_count": 13,
   "metadata": {
    "collapsed": false
   },
   "outputs": [],
   "source": [
    "r = requests.get(endpoint, params={'key1': 'value1', 'key2': 'value2'})"
   ]
  },
  {
   "cell_type": "code",
   "execution_count": 14,
   "metadata": {
    "collapsed": false
   },
   "outputs": [
    {
     "data": {
      "text/plain": [
       "'https://raw.githubusercontent.com/rickiepark/python-tutorial/master/tutorial-4/sample.json?key2=value2&key1=value1'"
      ]
     },
     "execution_count": 14,
     "metadata": {},
     "output_type": "execute_result"
    }
   ],
   "source": [
    "r.url"
   ]
  },
  {
   "cell_type": "code",
   "execution_count": 15,
   "metadata": {
    "collapsed": false
   },
   "outputs": [],
   "source": [
    "r = requests.get(endpoint, headers={'user-agent': 'my-app/0.0.1'})"
   ]
  },
  {
   "cell_type": "code",
   "execution_count": 47,
   "metadata": {
    "collapsed": true
   },
   "outputs": [],
   "source": [
    "r = requests.get('https://github.com', timeout=5)"
   ]
  },
  {
   "cell_type": "code",
   "execution_count": 48,
   "metadata": {
    "collapsed": false
   },
   "outputs": [
    {
     "data": {
      "text/plain": [
       "<RequestsCookieJar[Cookie(version=0, name='_octo', value='GH1.1.1224115575.1469000987', port=None, port_specified=False, domain='.github.com', domain_specified=True, domain_initial_dot=True, path='/', path_specified=True, secure=False, expires=1532072987, discard=False, comment=None, comment_url=None, rest={}, rfc2109=False), Cookie(version=0, name='logged_in', value='no', port=None, port_specified=False, domain='.github.com', domain_specified=True, domain_initial_dot=True, path='/', path_specified=True, secure=True, expires=2100152987, discard=False, comment=None, comment_url=None, rest={'HttpOnly': None}, rfc2109=False), Cookie(version=0, name='_gh_sess', value='eyJzZXNzaW9uX2lkIjoiNGJlNGM1OTBlMjVjNjNkMWE0OTUzNDFmMWJiMmExOGYiLCJfY3NyZl90b2tlbiI6InpCWG5ucW5XTVRFU1doSVFqRWxzcC9waFM0U0J5L2hPMHllS2JuVTlib0E9In0%3D--e75053d17d409e3b0def9de319cbd2f6179c81a6', port=None, port_specified=False, domain='github.com', domain_specified=False, domain_initial_dot=False, path='/', path_specified=True, secure=True, expires=None, discard=True, comment=None, comment_url=None, rest={'HttpOnly': None}, rfc2109=False)]>"
      ]
     },
     "execution_count": 48,
     "metadata": {},
     "output_type": "execute_result"
    }
   ],
   "source": [
    "r.cookies"
   ]
  },
  {
   "cell_type": "code",
   "execution_count": 49,
   "metadata": {
    "collapsed": false
   },
   "outputs": [
    {
     "data": {
      "text/plain": [
       "requests.cookies.RequestsCookieJar"
      ]
     },
     "execution_count": 49,
     "metadata": {},
     "output_type": "execute_result"
    }
   ],
   "source": [
    "r.cookies.__class__"
   ]
  },
  {
   "cell_type": "code",
   "execution_count": 50,
   "metadata": {
    "collapsed": false
   },
   "outputs": [
    {
     "data": {
      "text/plain": [
       "'GH1.1.1224115575.1469000987'"
      ]
     },
     "execution_count": 50,
     "metadata": {},
     "output_type": "execute_result"
    }
   ],
   "source": [
    "r.cookies['_octo']"
   ]
  },
  {
   "cell_type": "code",
   "execution_count": 51,
   "metadata": {
    "collapsed": false
   },
   "outputs": [
    {
     "data": {
      "text/plain": [
       "{'_gh_sess': 'eyJzZXNzaW9uX2lkIjoiNGJlNGM1OTBlMjVjNjNkMWE0OTUzNDFmMWJiMmExOGYiLCJfY3NyZl90b2tlbiI6InpCWG5ucW5XTVRFU1doSVFqRWxzcC9waFM0U0J5L2hPMHllS2JuVTlib0E9In0%3D--e75053d17d409e3b0def9de319cbd2f6179c81a6',\n",
       " '_octo': 'GH1.1.1224115575.1469000987',\n",
       " 'logged_in': 'no'}"
      ]
     },
     "execution_count": 51,
     "metadata": {},
     "output_type": "execute_result"
    }
   ],
   "source": [
    "r.cookies.get_dict()"
   ]
  },
  {
   "cell_type": "code",
   "execution_count": 52,
   "metadata": {
    "collapsed": true
   },
   "outputs": [],
   "source": [
    "cookies = r.cookies.get_dict()\n",
    "r = requests.get('https://github.com', cookies=cookies)"
   ]
  },
  {
   "cell_type": "code",
   "execution_count": null,
   "metadata": {
    "collapsed": true
   },
   "outputs": [],
   "source": []
  }
 ],
 "metadata": {
  "kernelspec": {
   "display_name": "Python 3",
   "language": "python",
   "name": "python3"
  },
  "language_info": {
   "codemirror_mode": {
    "name": "ipython",
    "version": 3
   },
   "file_extension": ".py",
   "mimetype": "text/x-python",
   "name": "python",
   "nbconvert_exporter": "python",
   "pygments_lexer": "ipython3",
   "version": "3.5.2"
  }
 },
 "nbformat": 4,
 "nbformat_minor": 0
}
