{
 "cells": [
  {
   "cell_type": "code",
   "execution_count": 1,
   "metadata": {
    "collapsed": true
   },
   "outputs": [],
   "source": [
    "import requests"
   ]
  },
  {
   "cell_type": "code",
   "execution_count": 21,
   "metadata": {
    "collapsed": false
   },
   "outputs": [],
   "source": [
    "class WebFetch(object):\n",
    "    \n",
    "    def __init__(self, req_list):\n",
    "        self.result = {}\n",
    "        for method, url in req_list:\n",
    "            try:\n",
    "                res = requests.request(method, url)\n",
    "                self.result['url'] = res\n",
    "                print(res.url, res.status_code)\n",
    "            except:\n",
    "                self.result['url'] = None\n",
    "            \n",
    "    def get_text(self, url):\n",
    "        for url in self.result:\n",
    "            if self.result[url] and url.find(url) >= 0:\n",
    "                return self.result[url].text\n",
    "            \n",
    "    def get_fail_list(self):\n",
    "        return [url for url in self.result if not self.result[url]]"
   ]
  },
  {
   "cell_type": "code",
   "execution_count": 22,
   "metadata": {
    "collapsed": false
   },
   "outputs": [
    {
     "name": "stdout",
     "output_type": "stream",
     "text": [
      "http://www.naver.com/ 200\n"
     ]
    }
   ],
   "source": [
    "wf = WebFetch([('GET', 'http://www.naver.com'), ('GET', 'http://unknownnamenaver.com')])"
   ]
  },
  {
   "cell_type": "code",
   "execution_count": 23,
   "metadata": {
    "collapsed": false
   },
   "outputs": [],
   "source": [
    "wf.get_text('naver')"
   ]
  },
  {
   "cell_type": "code",
   "execution_count": 24,
   "metadata": {
    "collapsed": false
   },
   "outputs": [
    {
     "data": {
      "text/plain": [
       "['url']"
      ]
     },
     "execution_count": 24,
     "metadata": {},
     "output_type": "execute_result"
    }
   ],
   "source": [
    "wf.get_fail_list()"
   ]
  },
  {
   "cell_type": "code",
   "execution_count": null,
   "metadata": {
    "collapsed": true
   },
   "outputs": [],
   "source": []
  }
 ],
 "metadata": {
  "kernelspec": {
   "display_name": "Python 3",
   "language": "python",
   "name": "python3"
  },
  "language_info": {
   "codemirror_mode": {
    "name": "ipython",
    "version": 3
   },
   "file_extension": ".py",
   "mimetype": "text/x-python",
   "name": "python",
   "nbconvert_exporter": "python",
   "pygments_lexer": "ipython3",
   "version": "3.5.2"
  }
 },
 "nbformat": 4,
 "nbformat_minor": 0
}
