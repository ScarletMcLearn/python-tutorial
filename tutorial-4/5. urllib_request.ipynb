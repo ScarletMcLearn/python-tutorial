{
 "cells": [
  {
   "cell_type": "code",
   "execution_count": 7,
   "metadata": {
    "collapsed": true
   },
   "outputs": [],
   "source": [
    "import urllib.request"
   ]
  },
  {
   "cell_type": "code",
   "execution_count": 8,
   "metadata": {
    "collapsed": false
   },
   "outputs": [
    {
     "name": "stdout",
     "output_type": "stream",
     "text": [
      "<class 'http.client.HTTPResponse'>\n",
      "200 OK\n",
      "('Server', 'nginx')\n",
      "('Content-Type', 'text/html; charset=utf-8')\n",
      "('X-Frame-Options', 'SAMEORIGIN')\n",
      "('X-Clacks-Overhead', 'GNU Terry Pratchett')\n",
      "('Content-Length', '47394')\n",
      "('Accept-Ranges', 'bytes')\n",
      "('Date', 'Wed, 20 Jul 2016 06:29:34 GMT')\n",
      "('Via', '1.1 varnish')\n",
      "('Age', '3088')\n",
      "('Connection', 'close')\n",
      "('X-Served-By', 'cache-hkg6826-HKG')\n",
      "('X-Cache', 'HIT')\n",
      "('X-Cache-Hits', '32')\n",
      "('Vary', 'Cookie')\n",
      "('Public-Key-Pins', 'max-age=600; includeSubDomains; pin-sha256=\"WoiWRyIOVNa9ihaBciRSC7XHjliYS9VwUGOIud4PB18=\"; pin-sha256=\"5C8kvU039KouVrl52D0eZSGf4Onjo4Khs8tmyTlV3nU=\"; pin-sha256=\"5C8kvU039KouVrl52D0eZSGf4Onjo4Khs8tmyTlV3nU=\"; pin-sha256=\"lCppFqbkrlJ3EcVFAkeip0+44VaoJUymbnOaEUk7tEU=\"; pin-sha256=\"TUDnr0MEoJ3of7+YliBMBVFB4/gJsv5zO7IxD9+YoWI=\"; pin-sha256=\"x4QzPSC810K5/cMjb05Qm4k3Bw5zBn4lTdO/nEW/Td4=\";')\n",
      "('Strict-Transport-Security', 'max-age=63072000; includeSubDomains')\n",
      "b'<!doctype html>\\n'\n"
     ]
    }
   ],
   "source": [
    "with urllib.request.urlopen('http://www.python.org/') as r:\n",
    "    print(type(r))\n",
    "    print(r.status, r.reason)\n",
    "    for h in r.getheaders():\n",
    "        print(h)\n",
    "    print(r.readline())"
   ]
  },
  {
   "cell_type": "code",
   "execution_count": null,
   "metadata": {
    "collapsed": true
   },
   "outputs": [],
   "source": []
  }
 ],
 "metadata": {
  "kernelspec": {
   "display_name": "Python 3",
   "language": "python",
   "name": "python3"
  },
  "language_info": {
   "codemirror_mode": {
    "name": "ipython",
    "version": 3
   },
   "file_extension": ".py",
   "mimetype": "text/x-python",
   "name": "python",
   "nbconvert_exporter": "python",
   "pygments_lexer": "ipython3",
   "version": "3.5.2"
  }
 },
 "nbformat": 4,
 "nbformat_minor": 0
}
