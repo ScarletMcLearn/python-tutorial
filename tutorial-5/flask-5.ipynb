{
 "cells": [
  {
   "cell_type": "code",
   "execution_count": 1,
   "metadata": {
    "collapsed": true
   },
   "outputs": [],
   "source": [
    "import os\n",
    "import sqlite3"
   ]
  },
  {
   "cell_type": "code",
   "execution_count": 2,
   "metadata": {
    "collapsed": true
   },
   "outputs": [],
   "source": [
    "from flask import Flask, request, send_from_directory, \\\n",
    "    render_template, g, redirect, url_for"
   ]
  },
  {
   "cell_type": "code",
   "execution_count": 42,
   "metadata": {
    "collapsed": false
   },
   "outputs": [],
   "source": [
    "app = Flask(__name__)\n",
    "app.config.from_object(__name__)"
   ]
  },
  {
   "cell_type": "code",
   "execution_count": 43,
   "metadata": {
    "collapsed": true
   },
   "outputs": [],
   "source": [
    "app.config.update(dict(\n",
    "        DATABASE=os.path.join(app.root_path, 'flask_test.db')\n",
    "    ))"
   ]
  },
  {
   "cell_type": "code",
   "execution_count": 44,
   "metadata": {
    "collapsed": false
   },
   "outputs": [],
   "source": [
    "def init_db():\n",
    "    db = sqlite3.connect(app.config['DATABASE'])\n",
    "    with app.open_resource('schema.sql', mode='r') as f:\n",
    "        db.cursor().executescript(f.read())\n",
    "    db.commit()\n",
    "    db.close()\n",
    "# init_db()"
   ]
  },
  {
   "cell_type": "code",
   "execution_count": 45,
   "metadata": {
    "collapsed": true
   },
   "outputs": [],
   "source": [
    "def connect_db():\n",
    "    if not hasattr(g, 'db_con'):\n",
    "        g.db_con = sqlite3.connect(app.config['DATABASE'])\n",
    "        g.db_con.row_factory = sqlite3.Row\n",
    "    return g.db_con"
   ]
  },
  {
   "cell_type": "code",
   "execution_count": 46,
   "metadata": {
    "collapsed": true
   },
   "outputs": [],
   "source": [
    "@app.teardown_appcontext\n",
    "def close_db(error):\n",
    "    if hasattr(g, 'db_con'):\n",
    "        g.db_con.close()"
   ]
  },
  {
   "cell_type": "code",
   "execution_count": 47,
   "metadata": {
    "collapsed": false
   },
   "outputs": [],
   "source": [
    "@app.route('/html/<path:path>')\n",
    "def send_html(path):\n",
    "    return send_from_directory('html', path)"
   ]
  },
  {
   "cell_type": "code",
   "execution_count": 48,
   "metadata": {
    "collapsed": false
   },
   "outputs": [],
   "source": [
    "@app.route('/save', methods=['POST'])\n",
    "def save():\n",
    "    db = connect_db()\n",
    "    db.execute('insert into entries (username) values (?)', \\\n",
    "               [request.form['username']])\n",
    "    db.commit()\n",
    "    return redirect(url_for('list'))"
   ]
  },
  {
   "cell_type": "code",
   "execution_count": 49,
   "metadata": {
    "collapsed": true
   },
   "outputs": [],
   "source": [
    "@app.route('/list')\n",
    "def list():\n",
    "    db = connect_db()\n",
    "    cur = db.execute('select username from entries')\n",
    "    usernames = cur.fetchall()\n",
    "    return render_template('list.html', users=usernames)"
   ]
  },
  {
   "cell_type": "code",
   "execution_count": 50,
   "metadata": {
    "collapsed": false
   },
   "outputs": [
    {
     "name": "stdout",
     "output_type": "stream",
     "text": [
      "teardown\n",
      "teardown\n",
      "teardown\n",
      "teardown\n"
     ]
    }
   ],
   "source": [
    "app.run()"
   ]
  },
  {
   "cell_type": "code",
   "execution_count": null,
   "metadata": {
    "collapsed": true
   },
   "outputs": [],
   "source": []
  }
 ],
 "metadata": {
  "kernelspec": {
   "display_name": "Python 3",
   "language": "python",
   "name": "python3"
  },
  "language_info": {
   "codemirror_mode": {
    "name": "ipython",
    "version": 3
   },
   "file_extension": ".py",
   "mimetype": "text/x-python",
   "name": "python",
   "nbconvert_exporter": "python",
   "pygments_lexer": "ipython3",
   "version": "3.5.2"
  }
 },
 "nbformat": 4,
 "nbformat_minor": 0
}
