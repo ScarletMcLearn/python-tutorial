{
 "cells": [
  {
   "cell_type": "markdown",
   "metadata": {},
   "source": [
    "기존의 함수를 변경시키지 않고 새로운 기능을 추가할 때 데코레이터를 사용합니다.  \n",
    "데코레이터를 사용할 때는 '@' 기호를 이용합니다."
   ]
  },
  {
   "cell_type": "code",
   "execution_count": null,
   "metadata": {
    "collapsed": false
   },
   "outputs": [],
   "source": [
    "def print_name(first, last):\n",
    "    return 'My name is %s, %s' % (last, first)"
   ]
  },
  {
   "cell_type": "code",
   "execution_count": null,
   "metadata": {
    "collapsed": true
   },
   "outputs": [],
   "source": [
    "def p_decor(func):\n",
    "    def func_wrapper(*args, **kwargs):\n",
    "        text = func(*args, **kwargs)\n",
    "        return '<p>%s</p>' % text\n",
    "    return func_wrapper"
   ]
  },
  {
   "cell_type": "code",
   "execution_count": null,
   "metadata": {
    "collapsed": true
   },
   "outputs": [],
   "source": [
    "print_name = p_decor(print_name)"
   ]
  },
  {
   "cell_type": "code",
   "execution_count": null,
   "metadata": {
    "collapsed": false
   },
   "outputs": [],
   "source": [
    "print_name('jobs', 'steve')"
   ]
  },
  {
   "cell_type": "code",
   "execution_count": null,
   "metadata": {
    "collapsed": false
   },
   "outputs": [],
   "source": [
    "@p_decor\n",
    "def print_name2(first, last):\n",
    "    return 'My name is %s, %s' % (last, first)"
   ]
  },
  {
   "cell_type": "code",
   "execution_count": null,
   "metadata": {
    "collapsed": false
   },
   "outputs": [],
   "source": [
    "print_name2('jobs', 'steve')"
   ]
  },
  {
   "cell_type": "markdown",
   "metadata": {},
   "source": [
    "데코레이터에 파라메타를 전달하기 위해 함수를 한번 더 래핑합니다."
   ]
  },
  {
   "cell_type": "code",
   "execution_count": null,
   "metadata": {
    "collapsed": true
   },
   "outputs": [],
   "source": [
    "def html_tag(tag):\n",
    "    def p_decor(func):\n",
    "        def func_wrapper(*args, **kwargs):\n",
    "            text = func(*args, **kwargs)\n",
    "            return '<%s>%s</%s>' % (tag, text, tag)\n",
    "        return func_wrapper\n",
    "    return p_decor"
   ]
  },
  {
   "cell_type": "code",
   "execution_count": null,
   "metadata": {
    "collapsed": true
   },
   "outputs": [],
   "source": [
    "@html_tag('div')\n",
    "def print_name3(first, last):\n",
    "    '''div tagging function'''\n",
    "    return 'My name is %s, %s' % (last, first)"
   ]
  },
  {
   "cell_type": "code",
   "execution_count": null,
   "metadata": {
    "collapsed": false
   },
   "outputs": [],
   "source": [
    "print_name3('jobs', 'steve')"
   ]
  },
  {
   "cell_type": "markdown",
   "metadata": {},
   "source": [
    "데코레이터를 사용하면 함수의 원래 이름이 바뀌어 집니다.  \n",
    "functools.wraps 를 사용하여 함수 정보를 바꾸어 줍니다."
   ]
  },
  {
   "cell_type": "code",
   "execution_count": null,
   "metadata": {
    "collapsed": false
   },
   "outputs": [],
   "source": [
    "print_name3.__name__"
   ]
  },
  {
   "cell_type": "code",
   "execution_count": null,
   "metadata": {
    "collapsed": true
   },
   "outputs": [],
   "source": [
    "print_name3.__doc__"
   ]
  },
  {
   "cell_type": "code",
   "execution_count": null,
   "metadata": {
    "collapsed": false
   },
   "outputs": [],
   "source": [
    "from functools import wraps\n",
    "def html_tag(tag):\n",
    "    def p_decor(func):\n",
    "        @wraps(func)\n",
    "        def func_wrapper(*args, **kwargs):\n",
    "            text = func(*args, **kwargs)\n",
    "            return '<%s>%s</%s>' % (tag, text, tag)\n",
    "        return func_wrapper\n",
    "    return p_decor"
   ]
  },
  {
   "cell_type": "code",
   "execution_count": null,
   "metadata": {
    "collapsed": true
   },
   "outputs": [],
   "source": [
    "@html_tag('div')\n",
    "def print_name4(first, last):\n",
    "    '''div tagging function'''\n",
    "    return 'My name is %s, %s' % (last, first)"
   ]
  },
  {
   "cell_type": "code",
   "execution_count": null,
   "metadata": {
    "collapsed": false
   },
   "outputs": [],
   "source": [
    "print_name4.__name__"
   ]
  },
  {
   "cell_type": "code",
   "execution_count": null,
   "metadata": {
    "collapsed": false
   },
   "outputs": [],
   "source": [
    "print_name4.__doc__"
   ]
  }
 ],
 "metadata": {
  "kernelspec": {
   "display_name": "Python 3",
   "language": "python",
   "name": "python3"
  },
  "language_info": {
   "codemirror_mode": {
    "name": "ipython",
    "version": 3
   },
   "file_extension": ".py",
   "mimetype": "text/x-python",
   "name": "python",
   "nbconvert_exporter": "python",
   "pygments_lexer": "ipython3",
   "version": "3.5.2"
  }
 },
 "nbformat": 4,
 "nbformat_minor": 0
}
