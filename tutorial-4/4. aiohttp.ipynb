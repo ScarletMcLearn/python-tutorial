{
 "cells": [
  {
   "cell_type": "code",
   "execution_count": 4,
   "metadata": {
    "collapsed": false
   },
   "outputs": [
    {
     "name": "stdout",
     "output_type": "stream",
     "text": [
      "Start http://naver.com\n",
      "Start https://google.com\n",
      "Start https://apple.com\n",
      "81580\n",
      "Done http://naver.com\n",
      "10993\n",
      "Done https://google.com\n",
      "37043\n",
      "Done https://apple.com\n"
     ]
    }
   ],
   "source": [
    "import aiohttp\n",
    "import asyncio"
   ]
  },
  {
   "cell_type": "code",
   "execution_count": null,
   "metadata": {
    "collapsed": true
   },
   "outputs": [],
   "source": [
    "@asyncio.coroutine\n",
    "def fetch(url):\n",
    "    print('Start', url)\n",
    "    res = yield from aiohttp.request('GET', url)\n",
    "    data = yield from res.read()\n",
    "    print(len(data))\n",
    "    print('Done', url)\n",
    "\n",
    "@asyncio.coroutine\n",
    "def fetch_all(urls):\n",
    "    fetches = [asyncio.Task(fetch(url)) for url in urls]\n",
    "    yield from asyncio.gather(*fetches)"
   ]
  },
  {
   "cell_type": "code",
   "execution_count": null,
   "metadata": {
    "collapsed": true
   },
   "outputs": [],
   "source": [
    "urls = ['http://naver.com', 'https://google.com', 'https://apple.com']\n",
    "asyncio.get_event_loop().run_until_complete(fetch_all(urls))"
   ]
  },
  {
   "cell_type": "code",
   "execution_count": null,
   "metadata": {
    "collapsed": true
   },
   "outputs": [],
   "source": []
  },
  {
   "cell_type": "code",
   "execution_count": null,
   "metadata": {
    "collapsed": true
   },
   "outputs": [],
   "source": []
  }
 ],
 "metadata": {
  "kernelspec": {
   "display_name": "Python 3",
   "language": "python",
   "name": "python3"
  },
  "language_info": {
   "codemirror_mode": {
    "name": "ipython",
    "version": 3
   },
   "file_extension": ".py",
   "mimetype": "text/x-python",
   "name": "python",
   "nbconvert_exporter": "python",
   "pygments_lexer": "ipython3",
   "version": "3.5.2"
  }
 },
 "nbformat": 4,
 "nbformat_minor": 0
}
